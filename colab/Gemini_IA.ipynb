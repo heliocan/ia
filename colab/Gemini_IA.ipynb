{
  "cells": [
    {
      "cell_type": "markdown",
      "metadata": {
        "id": "view-in-github",
        "colab_type": "text"
      },
      "source": [
        "<a href=\"https://colab.research.google.com/github/heliocan/ia/blob/main/Gemini_IA.ipynb\" target=\"_parent\"><img src=\"https://colab.research.google.com/assets/colab-badge.svg\" alt=\"Open In Colab\"/></a>"
      ]
    },
    {
      "cell_type": "markdown",
      "metadata": {
        "id": "yeadDkMiISin"
      },
      "source": [
        "# Gemini API: Reconhecimento de imagem V01"
      ]
    },
    {
      "cell_type": "markdown",
      "metadata": {
        "id": "FFPBKLapSCkM"
      },
      "source": [
        "## Setup\n"
      ]
    },
    {
      "cell_type": "markdown",
      "metadata": {
        "id": "wFNV1e3ASJha"
      },
      "source": [
        "### Instalacao SDK da IA"
      ]
    },
    {
      "cell_type": "markdown",
      "source": [
        "Importando recursos de chamada da API de IA"
      ],
      "metadata": {
        "id": "zNwv0uUn26Mj"
      }
    },
    {
      "cell_type": "code",
      "execution_count": 1,
      "metadata": {
        "id": "9OEoeosRTv-5"
      },
      "outputs": [],
      "source": [
        "!pip install -q -U google-generativeai"
      ]
    },
    {
      "cell_type": "markdown",
      "metadata": {
        "id": "KCFF5VSTbcAR"
      },
      "source": [
        "### Import pacotes"
      ]
    },
    {
      "cell_type": "markdown",
      "source": [
        "Importando recursos de chamada da API de IA"
      ],
      "metadata": {
        "id": "Y_76fkbH297H"
      }
    },
    {
      "cell_type": "code",
      "execution_count": 9,
      "metadata": {
        "id": "TS9l5igubpHO"
      },
      "outputs": [],
      "source": [
        "import textwrap\n",
        "import google.generativeai as genai\n",
        "from IPython.display import display\n",
        "from IPython.display import Markdown\n",
        "import PIL.Image\n",
        "\n",
        "def to_markdown(text):\n",
        "  text = text.replace('•', '  *')\n",
        "  return Markdown(textwrap.indent(text, '> ', predicate=lambda _: True))"
      ]
    },
    {
      "cell_type": "markdown",
      "metadata": {
        "id": "gHYFrFPjSGNq"
      },
      "source": [
        "### Referenciando a chave de acesso a API"
      ]
    },
    {
      "cell_type": "markdown",
      "metadata": {
        "id": "tHhsUxDTdw0W"
      },
      "source": [
        "No Colab nao se esqueca de adicionar uma SECRETS com nome `GOOGLE_API_KEY`e o valor com a chave correspondente"
      ]
    },
    {
      "cell_type": "code",
      "execution_count": 3,
      "metadata": {
        "id": "d10c38a5c91f"
      },
      "outputs": [],
      "source": [
        "# Para uso da chave de autenticao do Google\n",
        "from google.colab import userdata\n",
        "\n",
        "GOOGLE_API_KEY=userdata.get('GOOGLE_API_KEY')\n",
        "genai.configure(api_key=GOOGLE_API_KEY)"
      ]
    },
    {
      "cell_type": "markdown",
      "source": [
        "### Teste de execucao\n",
        "Lista modelos de IA disponiveis somente para testar conectividade de chave"
      ],
      "metadata": {
        "id": "bum-00Kq2JJd"
      }
    },
    {
      "cell_type": "code",
      "execution_count": null,
      "metadata": {
        "id": "QvvWFy08e5c5"
      },
      "outputs": [],
      "source": [
        "for m in genai.list_models():\n",
        "  if 'generateContent' in m.supported_generation_methods:\n",
        "    print(m.name)"
      ]
    },
    {
      "cell_type": "markdown",
      "metadata": {
        "id": "LZfoK3I3hu6V"
      },
      "source": [
        "### Escolhendo modelo de inteligencia\n"
      ]
    },
    {
      "cell_type": "markdown",
      "source": [
        "Neste caso é para reconhecimento de imagem"
      ],
      "metadata": {
        "id": "hgCaZj6s4BJZ"
      }
    },
    {
      "cell_type": "code",
      "execution_count": 5,
      "metadata": {
        "id": "2bcfnGEviwTI"
      },
      "outputs": [],
      "source": [
        "model = genai.GenerativeModel('gemini-pro-vision')"
      ]
    },
    {
      "cell_type": "markdown",
      "metadata": {
        "id": "MCzr5ZpNhxLm"
      },
      "source": [
        "## Imagem a ser analisada\n"
      ]
    },
    {
      "cell_type": "markdown",
      "source": [
        "### Importar uma imagem da web\n",
        "\n",
        "fonte: https://agenciagov.ebc.com.br/noticias/202401/tres-milhoes-de-brasileiros-ja-tem-a-nova-carteira-de-identidade-nacional-1"
      ],
      "metadata": {
        "id": "tGPmpeCSEMgb"
      }
    },
    {
      "cell_type": "code",
      "source": [
        "!curl -o novo_rg.jpg https://agenciagov.ebc.com.br/noticias/202401/tres-milhoes-de-brasileiros-ja-tem-a-nova-carteira-de-identidade-nacional-1/@@images/f52aa10a-e01d-458e-8522-8bf976efb164.jpeg"
      ],
      "metadata": {
        "id": "IyDtL-BEEPSH"
      },
      "execution_count": null,
      "outputs": []
    },
    {
      "cell_type": "code",
      "execution_count": null,
      "metadata": {
        "id": "CjnS0vNTsVis"
      },
      "outputs": [],
      "source": [
        "img = PIL.Image.open('novo_rg.jpg')\n",
        "\n",
        "# Exibe a imagem na tela\n",
        "img"
      ]
    },
    {
      "cell_type": "markdown",
      "source": [
        "### Processamento da imagem"
      ],
      "metadata": {
        "id": "2nBKm4H5S6r0"
      }
    },
    {
      "cell_type": "code",
      "source": [
        "%%time\n",
        "pergunta = \"Crie uma tabela com duas colunas em markdown que organize as informações contidas na imagem em formato de texto. Os titulos das colunas são respectivamente Item e informação\"\n",
        "response = model.generate_content([pergunta, img], stream=True)\n",
        "response.resolve()\n",
        "to_markdown(response.text)"
      ],
      "metadata": {
        "id": "B7kl5T4gHHOd"
      },
      "execution_count": null,
      "outputs": []
    }
  ],
  "metadata": {
    "colab": {
      "provenance": [],
      "toc_visible": true,
      "include_colab_link": true
    },
    "kernelspec": {
      "display_name": "Python 3",
      "name": "python3"
    },
    "accelerator": "TPU"
  },
  "nbformat": 4,
  "nbformat_minor": 0
}
